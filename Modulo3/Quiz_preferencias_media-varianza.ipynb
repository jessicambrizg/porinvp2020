{
 "cells": [
  {
   "cell_type": "code",
   "execution_count": 2,
   "metadata": {},
   "outputs": [
    {
     "data": {
      "text/plain": [
       "(0.065, 0.09625, -0.07375000000000001)"
      ]
     },
     "execution_count": 2,
     "metadata": {},
     "output_type": "execute_result"
    }
   ],
   "source": [
    "# Coeficiente de aversión al riesgo\n",
    "g = 3\n",
    "# Inversión A\n",
    "ErA = 0.2\n",
    "sA = 0.3\n",
    "UA = ErA - 0.5 * g * sA**2\n",
    "# Inversión B\n",
    "ErB = 0.13\n",
    "sB = 0.15\n",
    "UB = ErB - 0.5 * g * sB**2\n",
    "# Inversión C\n",
    "ErC = 0.23\n",
    "sC = 0.45\n",
    "UC = ErC - 0.5 * g * sC**2\n",
    "UA, UB, UC"
   ]
  },
  {
   "cell_type": "code",
   "execution_count": 3,
   "metadata": {},
   "outputs": [
    {
     "data": {
      "text/plain": [
       "(0.2, 0.13, 0.23)"
      ]
     },
     "execution_count": 3,
     "metadata": {},
     "output_type": "execute_result"
    }
   ],
   "source": [
    "# Coeficiente de aversión al riesgo\n",
    "g = 0\n",
    "# Inversión A\n",
    "ErA = 0.2\n",
    "sA = 0.3\n",
    "UA = ErA - 0.5 * g * sA**2\n",
    "# Inversión B\n",
    "ErB = 0.13\n",
    "sB = 0.15\n",
    "UB = ErB - 0.5 * g * sB**2\n",
    "# Inversión C\n",
    "ErC = 0.23\n",
    "sC = 0.45\n",
    "UC = ErC - 0.5 * g * sC**2\n",
    "UA, UB, UC"
   ]
  },
  {
   "cell_type": "code",
   "execution_count": 5,
   "metadata": {},
   "outputs": [
    {
     "data": {
      "text/plain": [
       "(0.11000000000000001, 0.05)"
      ]
     },
     "execution_count": 5,
     "metadata": {},
     "output_type": "execute_result"
    }
   ],
   "source": [
    "# Coeficiente de aversión al reisgo\n",
    "g = 2\n",
    "# Portafolio\n",
    "Er = 0.2\n",
    "s = 0.3\n",
    "U_p = Er - 0.5 * g * s**2\n",
    "# Cetes\n",
    "rf = 0.05\n",
    "sf = 0\n",
    "U_c = rf - 0.5 * g * sf**2\n",
    "U_p, U_c"
   ]
  },
  {
   "cell_type": "code",
   "execution_count": null,
   "metadata": {},
   "outputs": [],
   "source": []
  }
 ],
 "metadata": {
  "kernelspec": {
   "display_name": "Python 3",
   "language": "python",
   "name": "python3"
  },
  "language_info": {
   "codemirror_mode": {
    "name": "ipython",
    "version": 3
   },
   "file_extension": ".py",
   "mimetype": "text/x-python",
   "name": "python",
   "nbconvert_exporter": "python",
   "pygments_lexer": "ipython3",
   "version": "3.7.3"
  }
 },
 "nbformat": 4,
 "nbformat_minor": 4
}
